{
 "cells": [
  {
   "cell_type": "code",
   "execution_count": 9,
   "id": "beb242cb",
   "metadata": {},
   "outputs": [
    {
     "name": "stdout",
     "output_type": "stream",
     "text": [
      "10143780.793666614\n",
      "3500614.608197514\n"
     ]
    }
   ],
   "source": [
    "# silicone free\n",
    "list1=[9919.72642957942,3376101.74572194,91618.9657044997,1276.01565521723,6595.69595454946,25022.1851613072,3376101.74572194,91618.9657044997,1276.01565521723,6595.69595454946,25022.1851613072,6262.81583772837,142287.098641211,533303.33082429,117593.997543512,13383.333253164,21612.7692155636,762112.432085172,51921.9549073005,619.526662955557,50392.3112438625,6200.13329619308,7259.77711050774,3427.86105265827,12430.2207757216,2293.56261449842,9286.03773162116,1129084.31294677,5136.86391576217,64072.2454837319,163505.399215495,30445.8664842888]\n",
    "print(sum(list1))\n",
    "print(sum(list1)-6643166.1854691)\n",
    "# sum is more"
   ]
  },
  {
   "cell_type": "code",
   "execution_count": 8,
   "id": "a2c56580",
   "metadata": {},
   "outputs": [
    {
     "name": "stdout",
     "output_type": "stream",
     "text": [
      "17643319.74413465\n",
      "5.21540641784668e-08\n"
     ]
    }
   ],
   "source": [
    "# Sulfate Free\n",
    "list2=[36327.9628567404,35477.0258385866,794669.226299834,26949.6285337304,896847.344560245,35507.5405330545,15878.9352312542,42165.5549566418,536660.51728867,94705.5755135439,1535744.8738592,17909.3332260522,2102.39998740613,34168.8664619871,116934.950232241,321943.280641626,217869.831828967,377427.854670535,108721.824175594,9919.72642957942,1114674.05797008,3376101.74572194,6595.69595454946,6262.81583772837,5653.16855223136,329.765341754283,124584.88896897,3154498.45674173,43166.1164080915,14172.414662342,147836.629223219,1340523.32530328,21612.7692155636,28669.0951647548,51921.9549073005,1312.68596206163,619.526662955557,50392.3112438625,6200.13329619308,21657.7127460199,1351.90883737706,1466.22935573924,291.634989898851,8839.30211246467,11643.9131117243,44393.3191117318,12430.2207757216,998852.740178989,2293.56261449842,1129084.31294677,99694.6385428813,5136.86391576217,179734.416672728,163505.399215495,13980.9599162508,81122.4661807241,72075.3329015852,42704.999744187,]\n",
    "print(sum(list2))\n",
    "print(17643319.7441347-sum(list2))\n",
    "# sum is less"
   ]
  },
  {
   "cell_type": "code",
   "execution_count": 11,
   "id": "0aead10d",
   "metadata": {},
   "outputs": [
    {
     "name": "stdout",
     "output_type": "stream",
     "text": [
      "29193626.134436503\n",
      "3.725290298461914e-09\n"
     ]
    }
   ],
   "source": [
    "# Alcohol Free\n",
    "list3=[36327.9628567404,459.607990563489,104821.256988274,384235.493367157,1870.74665244366,4442.09854022492,116934.950232241,321943.280641626,816009.870384308,10071.9313571002,108721.824175594,5281.30667819368,6638.25486388365,8300.73246434014,1921.28693669508,3154498.45674173,2341787.81425154,21535700.6709961,34339.1997943001,6517.43996095901,12430.2207757216,2293.56261449842,5762.69292236323,103574.098098047,64072.2454837319,4669.12866812278]\n",
    "print(sum(list3))\n",
    "print(sum(list3)-29193626.1344365)\n",
    "# sum is more"
   ]
  },
  {
   "cell_type": "code",
   "execution_count": 12,
   "id": "df850c24",
   "metadata": {},
   "outputs": [
    {
     "ename": "ModuleNotFoundError",
     "evalue": "No module named 'selenium'",
     "output_type": "error",
     "traceback": [
      "\u001b[0;31m---------------------------------------------------------------------------\u001b[0m",
      "\u001b[0;31mModuleNotFoundError\u001b[0m                       Traceback (most recent call last)",
      "Cell \u001b[0;32mIn[12], line 1\u001b[0m\n\u001b[0;32m----> 1\u001b[0m \u001b[38;5;28;01mfrom\u001b[39;00m \u001b[38;5;21;01mselenium\u001b[39;00m \u001b[38;5;28;01mimport\u001b[39;00m webdriver\n\u001b[1;32m      2\u001b[0m \u001b[38;5;28;01mfrom\u001b[39;00m \u001b[38;5;21;01mSelenium\u001b[39;00m\u001b[38;5;21;01m.\u001b[39;00m\u001b[38;5;21;01mwebdriver\u001b[39;00m\u001b[38;5;21;01m.\u001b[39;00m\u001b[38;5;21;01mcommon\u001b[39;00m\u001b[38;5;21;01m.\u001b[39;00m\u001b[38;5;21;01mkeys\u001b[39;00m \u001b[38;5;28;01mimport\u001b[39;00m Keys\n\u001b[1;32m      3\u001b[0m \u001b[38;5;28;01mfrom\u001b[39;00m \u001b[38;5;21;01mSelenium\u001b[39;00m\u001b[38;5;21;01m.\u001b[39;00m\u001b[38;5;21;01mwebdriver\u001b[39;00m\u001b[38;5;21;01m.\u001b[39;00m\u001b[38;5;21;01mcommon\u001b[39;00m\u001b[38;5;21;01m.\u001b[39;00m\u001b[38;5;21;01mby\u001b[39;00m \u001b[38;5;28;01mimport\u001b[39;00m By\n",
      "\u001b[0;31mModuleNotFoundError\u001b[0m: No module named 'selenium'"
     ]
    }
   ],
   "source": [
    "from selenium import webdriver\n",
    "from Selenium.webdriver.common.keys import Keys\n",
    "from Selenium.webdriver.common.by import By"
   ]
  },
  {
   "cell_type": "code",
   "execution_count": 13,
   "id": "cff49067",
   "metadata": {},
   "outputs": [
    {
     "name": "stdout",
     "output_type": "stream",
     "text": [
      "Collecting webdriver-manager\n",
      "  Obtaining dependency information for webdriver-manager from https://files.pythonhosted.org/packages/b1/51/b5c11cf739ac4eecde611794a0ec9df420d0239d51e73bc19eb44f02b48b/webdriver_manager-4.0.1-py2.py3-none-any.whl.metadata\n",
      "  Downloading webdriver_manager-4.0.1-py2.py3-none-any.whl.metadata (12 kB)\n",
      "Requirement already satisfied: requests in /Users/aryansood/anaconda3/lib/python3.11/site-packages (from webdriver-manager) (2.31.0)\n",
      "Collecting python-dotenv (from webdriver-manager)\n",
      "  Downloading python_dotenv-1.0.0-py3-none-any.whl (19 kB)\n",
      "Requirement already satisfied: packaging in /Users/aryansood/anaconda3/lib/python3.11/site-packages (from webdriver-manager) (23.0)\n",
      "Requirement already satisfied: charset-normalizer<4,>=2 in /Users/aryansood/anaconda3/lib/python3.11/site-packages (from requests->webdriver-manager) (2.0.4)\n",
      "Requirement already satisfied: idna<4,>=2.5 in /Users/aryansood/anaconda3/lib/python3.11/site-packages (from requests->webdriver-manager) (3.4)\n",
      "Requirement already satisfied: urllib3<3,>=1.21.1 in /Users/aryansood/anaconda3/lib/python3.11/site-packages (from requests->webdriver-manager) (1.26.16)\n",
      "Requirement already satisfied: certifi>=2017.4.17 in /Users/aryansood/anaconda3/lib/python3.11/site-packages (from requests->webdriver-manager) (2023.7.22)\n",
      "Downloading webdriver_manager-4.0.1-py2.py3-none-any.whl (27 kB)\n",
      "Installing collected packages: python-dotenv, webdriver-manager\n",
      "Successfully installed python-dotenv-1.0.0 webdriver-manager-4.0.1\n",
      "Note: you may need to restart the kernel to use updated packages.\n"
     ]
    }
   ],
   "source": [
    "pip install webdriver-manager"
   ]
  },
  {
   "cell_type": "code",
   "execution_count": null,
   "id": "0fa188c4",
   "metadata": {},
   "outputs": [],
   "source": [
    "website = 'https://www.amazon.in/dp/B07BDNCTFC'\n",
    "driver = webdriver.Chrome()\n",
    "driver.get(website)\n",
    "# all_matches_button = driver. find_element_by_xpath('//label [@analytics-event=\"All matches\"]')\n",
    "# all_matches_button.click()\n",
    "rows = driver.find_elements_by_tag_name('tr')\n",
    "for row in rows:\n",
    "    print (row.text)\n",
    "driver.quit()"
   ]
  },
  {
   "cell_type": "code",
   "execution_count": null,
   "id": "8ab8580f",
   "metadata": {},
   "outputs": [],
   "source": []
  },
  {
   "cell_type": "code",
   "execution_count": null,
   "id": "51b98fe8",
   "metadata": {},
   "outputs": [],
   "source": []
  },
  {
   "cell_type": "code",
   "execution_count": null,
   "id": "d15e155a",
   "metadata": {},
   "outputs": [],
   "source": []
  },
  {
   "cell_type": "code",
   "execution_count": null,
   "id": "d07c2364",
   "metadata": {},
   "outputs": [],
   "source": []
  },
  {
   "cell_type": "code",
   "execution_count": null,
   "id": "3c26d987",
   "metadata": {},
   "outputs": [],
   "source": [
    "from selenium import webdriver\n",
    "from selenium.webdriver.common.by import By\n",
    "from selenium.webdriver.chrome.service import Service as ChromeService\n",
    "from selenium.webdriver.chrome.options import Options as ChromeOptions\n",
    "\n",
    "def get_amazon_product_weight(url):\n",
    "    # Set up Chrome options\n",
    "    chrome_options = ChromeOptions()\n",
    "    chrome_options.add_argument('--headless')  # Run Chrome in headless mode (without GUI)\n",
    "    service = ChromeService()\n",
    "    driver = webdriver.Chrome(service=service, options=chrome_options)\n",
    "\n",
    "    try:\n",
    "        # Navigate to the Amazon product page\n",
    "        driver.get(url)\n",
    "\n",
    "        # Wait for the page to load (you might need to adjust the wait time based on your network speed)\n",
    "        driver.implicitly_wait(10)\n",
    "\n",
    "        # Define the XPath for the element containing the weight information\n",
    "        # Update the XPath based on the actual HTML structure of the Amazon page\n",
    "        xpath_expression= '//*[@id=\"productDetails_detailBullets_sections1\"]/tbody/tr[7]'\n",
    "        # Find the weight element using the XPath\n",
    "        weight_element = driver.find_element(By.XPATH, xpath_expression)\n",
    "\n",
    "        # Get the text content of the element\n",
    "        weight = weight_element.text.strip()\n",
    "\n",
    "        return weight\n",
    "\n",
    "    finally:\n",
    "        # Close the browser window\n",
    "        driver.quit()\n",
    "\n",
    "# Example usage\n",
    "amazon_url = \"https://www.amazon.in/dp/B07BDNCTFC\"\n",
    "product_weight = get_amazon_product_weight(amazon_url)\n",
    "print(f\"Product Weight: {product_weight}\")\n"
   ]
  },
  {
   "cell_type": "code",
   "execution_count": null,
   "id": "7e90e623",
   "metadata": {},
   "outputs": [],
   "source": []
  }
 ],
 "metadata": {
  "kernelspec": {
   "display_name": "Python 3 (ipykernel)",
   "language": "python",
   "name": "python3"
  },
  "language_info": {
   "codemirror_mode": {
    "name": "ipython",
    "version": 3
   },
   "file_extension": ".py",
   "mimetype": "text/x-python",
   "name": "python",
   "nbconvert_exporter": "python",
   "pygments_lexer": "ipython3",
   "version": "3.11.4"
  }
 },
 "nbformat": 4,
 "nbformat_minor": 5
}
