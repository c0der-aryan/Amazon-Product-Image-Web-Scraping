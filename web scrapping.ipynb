{
 "cells": [
  {
   "cell_type": "code",
   "execution_count": 57,
   "id": "d7150947",
   "metadata": {},
   "outputs": [],
   "source": [
    "from selenium import webdriver\n",
    "from selenium.webdriver.common.by import By\n",
    "import requests\n",
    "import io\n",
    "from PIL import Image\n",
    "import pandas as pd\n",
    "import numpy as np\n",
    "from time import sleep"
   ]
  },
  {
   "cell_type": "code",
   "execution_count": 63,
   "id": "92faa786",
   "metadata": {},
   "outputs": [],
   "source": [
    "driver = webdriver.Chrome()"
   ]
  },
  {
   "cell_type": "code",
   "execution_count": 64,
   "id": "a632f00c",
   "metadata": {},
   "outputs": [],
   "source": [
    "# driver.get('https://www.amazon.in/gp/bestsellers/beauty/3507139031')\n",
    "# input_search= driver.find_element(\"id\",\"twotabsearchtextbox\")\n",
    "# search_button= driver.find_element(\"xpath\",\"(//input[@type='submit'])[1]\")\n",
    "\n",
    "# from time import sleep\n",
    "# input_search.send_keys(\"Hair Oils\")\n",
    "# sleep(1)\n",
    "# search_button.click()"
   ]
  },
  {
   "cell_type": "code",
   "execution_count": 65,
   "id": "2f6753dc",
   "metadata": {},
   "outputs": [],
   "source": [
    "driver.get('https://www.amazon.in/dp/B07DD2RZS4')\n",
    "search_button= driver.find_element(\"xpath\",\"//div[@id='imgTagWrapperId']/img\")\n",
    "sleep(1)\n",
    "\n",
    "search_button.click()\n",
    "sleep(5)"
   ]
  },
  {
   "cell_type": "code",
   "execution_count": 35,
   "id": "1370cbf2",
   "metadata": {},
   "outputs": [],
   "source": []
  },
  {
   "cell_type": "code",
   "execution_count": 77,
   "id": "6cd13238",
   "metadata": {},
   "outputs": [
    {
     "name": "stdout",
     "output_type": "stream",
     "text": [
      "Image Link: https://m.media-amazon.com/images/W/MEDIAX_792452-T2/images/I/71lF1QsCb8L._SL1500_.jpg\n"
     ]
    }
   ],
   "source": [
    "from selenium import webdriver\n",
    "from selenium.webdriver.common.by import By\n",
    "\n",
    "def get_amazon_image_link(url):\n",
    "    # Set up Chrome driver (you need to specify the path to your chromedriver executable)\n",
    "    driver = webdriver.Chrome()\n",
    "    \n",
    "    try:\n",
    "        # Navigate to the Amazon product page\n",
    "        driver.get(url)\n",
    "        search_button= driver.find_element(\"xpath\",\"//div[@id='imgTagWrapperId']/img\")\n",
    "        sleep(1)\n",
    "\n",
    "        search_button.click()\n",
    "        sleep(1)\n",
    "        # Define the XPath for the image (update based on the actual HTML structure)\n",
    "        xpath_expression = '//img[@class=\"fullscreen\"]'\n",
    "\n",
    "        # Find the image element using the XPath\n",
    "        image_element = driver.find_element(By.XPATH, xpath_expression)\n",
    "\n",
    "        # Extract the image URL\n",
    "        if image_element:\n",
    "            image_link = image_element.get_attribute('src')\n",
    "            return image_link\n",
    "        else:\n",
    "            return \"Image not found on the page.\"\n",
    "\n",
    "    finally:\n",
    "        # Close the browser window\n",
    "        driver.quit()\n",
    "\n",
    "# Example usage\n",
    "# amazon_url = \"https://www.amazon.in/dp/B07BDNCTFC\"\n",
    "amazon_url = \"https://www.amazon.in/dp/B0B6W5KCRM\"\n",
    "\n",
    "image_link = get_amazon_image_link(amazon_url)\n",
    "\n",
    "print(f\"Image Link: {image_link}\")\n"
   ]
  },
  {
   "cell_type": "code",
   "execution_count": 37,
   "id": "9f359de2",
   "metadata": {},
   "outputs": [
    {
     "name": "stdout",
     "output_type": "stream",
     "text": [
      "Getting Images\n"
     ]
    }
   ],
   "source": [
    "image_url= \"https://m.media-amazon.com/images/W/MEDIAX_792452-T1/images/I/61nBoAnPSEL._SX522_.jpg\"\n",
    "def download_image(downloaded_path, url, file_name):\n",
    "    image_content= requests.get(url).content  #actually getting the image\n",
    "    image_file= io.BytesIO(image_content)     #converting the image into a bytes file\n",
    "    image= Image.open(image_file)             #converting the image into an Pillow Image \n",
    "    file_path=downloaded_path + file_name\n",
    "\n",
    "    with open(file_path,\"wb\") as f:\n",
    "        image.save(f,\"JPEG\")\n",
    "\n",
    "    print(\"Getting Images\")    \n",
    "download_image(\"\", image_url, \"test.jpg\")     "
   ]
  },
  {
   "cell_type": "code",
   "execution_count": 42,
   "id": "b15eefae",
   "metadata": {},
   "outputs": [
    {
     "name": "stdout",
     "output_type": "stream",
     "text": [
      "Scrapping 1\n",
      "Next page button not found, or no more pages.\n"
     ]
    }
   ],
   "source": [
    "# from selenium.common.exceptions import NoSuchElementException\n",
    "\n",
    "# products = []\n",
    "# prices = []\n",
    "# prices_per_ml=[]\n",
    "# for i in range(10):\n",
    "#     try:\n",
    "#         print(\"Scrapping\", i+1)\n",
    "#         product_elements = driver.find_elements(\"xpath\", \"//span[@class='_cDEzb_p13n-sc-css-line-clamp-3_g3dy1']\")  \n",
    "#         product_name= driver.find_element(\"id\", \"productTitle\")\n",
    "#         price= driver.find_element(\"xpath\",\"//span[@class='a-price-whole']\")\n",
    "#         price_ml= driver.find_element(\"xpath\",\"//span[@class='a-size-mini a-color-base aok-align-center pricePerUnit']\")\n",
    "#         for product in product_elements:\n",
    "#             product_elements.click()\n",
    "#             products.append(product_name.text) \n",
    "#             prices.append(price.text)\n",
    "#             prices_per_ml.append(price_ml)\n",
    "            \n",
    "#         next_button = driver.find_element(\"xpath\", \"//a[@class='s-pagination-item s-pagination-next s-pagination-button s-pagination-separator']\")\n",
    "#         next_button.click()\n",
    "#         sleep(5)\n",
    "\n",
    "#     except NoSuchElementException:\n",
    "#         print(\"Next page button not found, or no more pages.\")\n",
    "#         break\n"
   ]
  },
  {
   "cell_type": "code",
   "execution_count": 21,
   "id": "308db9b5",
   "metadata": {},
   "outputs": [
    {
     "data": {
      "text/plain": [
       "0"
      ]
     },
     "execution_count": 21,
     "metadata": {},
     "output_type": "execute_result"
    }
   ],
   "source": [
    "len(products)"
   ]
  },
  {
   "cell_type": "code",
   "execution_count": null,
   "id": "036cc798",
   "metadata": {},
   "outputs": [],
   "source": [
    "df_path = r'/Users/aryansood/aims/nlp grup1/Data Input (Test & Train) copy.xlsx'\n",
    "df = pd.read_excel(df_path, header=1)\n",
    "df.describe()\n",
    "list(df['ASIN'].unique())"
   ]
  },
  {
   "cell_type": "code",
   "execution_count": 44,
   "id": "2047e9d0",
   "metadata": {},
   "outputs": [
    {
     "name": "stdout",
     "output_type": "stream",
     "text": [
      "Scraped Image Links:\n",
      "1. https://fls-eu.amazon.in/1/batch/1/OP/A21TJRUUN4KGV:259-7182508-8711602:7MP6H1AR2859SP4D6JX6$uedata=s:%2Frd%2Fuedata%3Fstaticb%26id%3D7MP6H1AR2859SP4D6JX6:0\n",
      "2. https://m.media-amazon.com/images/G/31/gno/sprites/nav-sprite-global-1x-reorg-privacy._CB600086755_.png\n",
      "3. https://m.media-amazon.com/images/W/MEDIAX_792452-T2/images/G/31/AmazonVideo/2021/X-site/SingleTitle/Reacher/400x39-SWM-NP._CB571196889_.jpg\n",
      "4. https://m.media-amazon.com/images/G/01/x-locale/checkout/truespc/secured-ssl._CB485936932_.png\n",
      "5. https://m.media-amazon.com/images/G/31/HomeCustomProduct/360_icon_73x73v2._CB485971317_SX38_SY50_CR,0,0,38,50_FMpng_RI_.png\n",
      "6. https://m.media-amazon.com/images/W/MEDIAX_792452-T2/images/I/31PgfQoXh2L._SX38_SY50_CR,0,0,38,50_.jpg\n",
      "7. https://m.media-amazon.com/images/W/MEDIAX_792452-T2/images/I/511r3D0fUrL.SX38_SY50_CR,0,0,38,50_BG85,85,85_BR-120_PKdp-play-icon-overlay__.jpg\n",
      "8. https://m.media-amazon.com/images/W/MEDIAX_792452-T2/images/I/51MsA2aICwL._SX38_SY50_CR,0,0,38,50_.jpg\n",
      "9. https://m.media-amazon.com/images/W/MEDIAX_792452-T2/images/I/516FLa+KC5L._SX38_SY50_CR,0,0,38,50_.jpg\n",
      "10. https://m.media-amazon.com/images/W/MEDIAX_792452-T2/images/I/41+RVYNaUtL._SX38_SY50_CR,0,0,38,50_.jpg\n",
      "11. https://m.media-amazon.com/images/W/MEDIAX_792452-T2/images/I/41CNmopxYWL._SX38_SY50_CR,0,0,38,50_.jpg\n",
      "12. https://m.media-amazon.com/images/W/MEDIAX_792452-T2/images/I/51+-NFZwoyL._SX38_SY50_CR,0,0,38,50_.jpg\n",
      "13. https://images-na.ssl-images-amazon.com/images/G/01/x-locale/common/grey-pixel.gif\n",
      "14. https://m.media-amazon.com/images/W/MEDIAX_792452-T2/images/I/61dUCXFgN3L._SX679_.jpg\n",
      "15. https://m.media-amazon.com/images/G/31/A2I_CEPC/VSX/vsx_sprite_2x.png\n",
      "16. https://m.media-amazon.com/images/G/31/A2I-Convert/mobile/IconFarm/icon-top-brand._CB617044271_.png\n",
      "17. https://m.media-amazon.com/images/G/31/A2I-Convert/mobile/IconFarm/icon-returns._CB484059092_.png\n",
      "18. https://m.media-amazon.com/images/G/31/A2I-Convert/mobile/IconFarm/icon-cod._CB485937110_.png\n",
      "19. https://m.media-amazon.com/images/G/31/A2I-Convert/mobile/IconFarm/trust_icon_free_shipping_81px._CB630870460_.png\n",
      "20. https://m.media-amazon.com/images/G/31/A2I-Convert/mobile/IconFarm/icon-amazon-delivered._CB485933725_.png\n",
      "21. https://m.media-amazon.com/images/G/31/A2I-Convert/mobile/IconFarm/Secure-payment._CB650126890_.png\n",
      "22. https://m.media-amazon.com/images/I/11aYX7fmT0L.png\n",
      "23. https://m.media-amazon.com/images/I/11tpn4SMxwL.png\n",
      "24. https://m.media-amazon.com/images/I/11sUgaVRsYL.png\n",
      "25. https://m.media-amazon.com/images/I/01S5bawZYgL.png\n",
      "26. https://m.media-amazon.com/images/I/01S5bawZYgL.png\n",
      "27. https://m.media-amazon.com/images/I/01S5bawZYgL.png\n",
      "28. https://m.media-amazon.com/images/I/01TJnfWJEjL.png\n",
      "29. https://m.media-amazon.com/images/I/01TJnfWJEjL.png\n",
      "30. https://m.media-amazon.com/images/I/01TJnfWJEjL.png\n",
      "31. https://images-eu.ssl-images-amazon.com/images/W/MEDIAX_792452-T2/images/I/61dUCXFgN3L._AC_UL348_SR348,348_.jpg\n",
      "32. https://images-eu.ssl-images-amazon.com/images/W/MEDIAX_792452-T2/images/I/61-zRoFrfqL._AC_UL348_SR348,348_.jpg\n",
      "33. https://images-eu.ssl-images-amazon.com/images/W/MEDIAX_792452-T2/images/I/81ILzuTdkbL._AC_UL348_SR348,348_.jpg\n",
      "34. https://m.media-amazon.com/images/W/MEDIAX_792452-T2/images/S/al-eu-726f4d26-7fdb/9483db5d-c55f-450f-9206-97d28d95d51c._CR0,0,500,500_AC_SX130_SY60_QL70_.jpg\n",
      "35. https://m.media-amazon.com/images/W/MEDIAX_792452-T2/images/S/al-eu-726f4d26-7fdb/134f93f4-d5cf-453f-ab09-8c8160307fd9._CR0,0,1200,628_SX507_QL70_.jpg\n",
      "36. https://m.media-amazon.com/images/W/MEDIAX_792452-T2/images/I/51mreFNz8pL._AC_SR160,134_QL70_.jpg\n",
      "37. https://m.media-amazon.com/images/W/MEDIAX_792452-T2/images/I/51zfMpVOrbL._AC_SR160,134_QL70_.jpg\n",
      "38. https://m.media-amazon.com/images/W/MEDIAX_792452-T2/images/I/61fvE9CqUyL._AC_SR160,134_QL70_.jpg\n",
      "39. https://aax-eu.amazon.in/e/loi/imp?b=JC_b1BRqe46008f1s1d0PcQAAAGMbT6C8QMAAAH2AQBvbm9fdHhuX2JpZDMgICBvbm9fdHhuX2ltcDEgICCFjG4u\n",
      "40. https://m.media-amazon.com/images/I/41KVWruKjyL._AC_SR480,480_.jpg\n",
      "41. https://m.media-amazon.com/images/I/21pJ8S3TLvL._AC_SR480,480_.jpg\n",
      "42. https://m.media-amazon.com/images/I/414OOl6UryL._AC_SR480,480_.jpg\n",
      "43. https://m.media-amazon.com/images/I/31wLupBvkwL._AC_SR480,480_.jpg\n",
      "44. https://m.media-amazon.com/images/I/31xGzApo6IL._AC_SR480,480_.jpg\n",
      "45. https://m.media-amazon.com/images/I/41Qy0xdRF7L._AC_SR480,480_.jpg\n",
      "46. https://m.media-amazon.com/images/I/41+7o89hznL._AC_SR480,480_.jpg\n",
      "47. https://m.media-amazon.com/images/I/41M8xFW4apL._AC_SR480,480_.jpg\n",
      "48. https://m.media-amazon.com/images/I/31Ip4aURUpL.png\n",
      "49. https://m.media-amazon.com/images/I/41O2cXD35eL._AC_SR480,480_.jpg\n",
      "50. https://m.media-amazon.com/images/I/31Ip4aURUpL.png\n",
      "51. https://m.media-amazon.com/images/I/41uS3JrSruL._AC_SR480,480_.jpg\n",
      "52. https://m.media-amazon.com/images/W/MEDIAX_792452-T2/images/I/31PgfQoXh2L._SS75_.jpg\n",
      "53. https://images-na.ssl-images-amazon.com/images/G/01/x-locale/common/grey-pixel.gif\n",
      "54. https://m.media-amazon.com/images/W/MEDIAX_792452-T2/images/S/aplus-media-library-service-media/f27acb30-5994-4b82-881e-a86a700d1f39.__CR0,0,970,300_PT0_SX970_V1___.jpg\n",
      "55. https://images-na.ssl-images-amazon.com/images/G/01/x-locale/common/grey-pixel.gif\n",
      "56. https://m.media-amazon.com/images/W/MEDIAX_792452-T2/images/S/aplus-media-library-service-media/a146c560-32e8-4eae-a797-3a1720d3d536.__CR0,0,970,300_PT0_SX970_V1___.jpg\n",
      "57. https://images-na.ssl-images-amazon.com/images/G/01/x-locale/common/grey-pixel.gif\n",
      "58. https://m.media-amazon.com/images/W/MEDIAX_792452-T2/images/S/aplus-media-library-service-media/2a8dd87c-8524-4372-80f3-006124f2e583.__CR0,0,970,300_PT0_SX970_V1___.jpg\n",
      "59. https://images-na.ssl-images-amazon.com/images/G/01/x-locale/common/grey-pixel.gif\n",
      "60. https://m.media-amazon.com/images/W/MEDIAX_792452-T2/images/S/aplus-media-library-service-media/f9e748b2-8f67-4edb-9198-9c7360379eab.__CR0,0,970,300_PT0_SX970_V1___.jpg\n",
      "61. https://images-na.ssl-images-amazon.com/images/G/01/x-locale/common/grey-pixel.gif\n",
      "62. https://m.media-amazon.com/images/W/MEDIAX_792452-T2/images/S/aplus-media-library-service-media/5550aeb3-91e4-4f50-9e7b-bd551033dd69.__CR0,0,970,300_PT0_SX970_V1___.jpg\n",
      "63. https://m.media-amazon.com/images/W/MEDIAX_792452-T2/images/I/41M8xFW4apL._AC_SR480,480_.jpg\n",
      "64. https://m.media-amazon.com/images/I/31Ip4aURUpL.png\n",
      "65. https://m.media-amazon.com/images/W/MEDIAX_792452-T2/images/I/31iuFN+jOgL._AC_SR480,480_.jpg\n",
      "66. https://m.media-amazon.com/images/I/31Ip4aURUpL.png\n",
      "67. https://m.media-amazon.com/images/W/MEDIAX_792452-T2/images/I/31prQNztwiL._AC_SR480,480_.jpg\n",
      "68. https://m.media-amazon.com/images/W/MEDIAX_792452-T2/images/I/41+7o89hznL._AC_SR480,480_.jpg\n",
      "69. https://m.media-amazon.com/images/W/MEDIAX_792452-T2/images/I/41wDxqqQCvL._AC_SR480,480_.jpg\n",
      "70. https://m.media-amazon.com/images/W/MEDIAX_792452-T2/images/I/512YzqmArTL._AC_SR480,480_.jpg\n",
      "71. https://m.media-amazon.com/images/W/MEDIAX_792452-T2/images/I/41aAdGkNjcL._AC_SR480,480_.jpg\n",
      "72. https://m.media-amazon.com/images/W/MEDIAX_792452-T2/images/I/41Qy0xdRF7L._AC_SR480,480_.jpg\n",
      "73. https://m.media-amazon.com/images/W/MEDIAX_792452-T2/images/I/41uS3JrSruL._AC_SR480,480_.jpg\n",
      "74. https://m.media-amazon.com/images/W/MEDIAX_792452-T2/images/I/31wLupBvkwL._AC_SR480,480_.jpg\n",
      "75. https://m.media-amazon.com/images/W/MEDIAX_792452-T2/images/S/al-eu-726f4d26-7fdb/134f93f4-d5cf-453f-ab09-8c8160307fd9._CR0,0,1200,628_SX460_QL70_.jpg\n",
      "76. https://m.media-amazon.com/images/W/MEDIAX_792452-T2/images/S/al-eu-726f4d26-7fdb/9483db5d-c55f-450f-9206-97d28d95d51c._CR0,0,500,500_AC_SX96_SY48_QL70_.jpg\n",
      "77. https://aax-eu.amazon.in/e/loi/imp?b=JP2u-hnkAPOmu-VtmBnqbFMAAAGMbT6C-QMAAAH2AQBvbm9fdHhuX2JpZDEgICBvbm9fdHhuX2ltcDEgICARyzHg\n",
      "78. https://m.media-amazon.com/images/W/MEDIAX_792452-T2/images/S/al-eu-726f4d26-7fdb/e7ce0c30-94f0-43e5-ac04-897539ffbeb7._CR0,0,1200,628_SX460_QL70_.jpg\n",
      "79. https://m.media-amazon.com/images/S/al-eu-726f4d26-7fdb/be79b7a5-53bd-439b-86c0-b6e08fdd140a._CR0,0,1244,442_AC_SX96_SY48_QL70_.png\n",
      "80. https://aax-eu.amazon.in/e/loi/imp?b=JMx6ieYZpWqHHOcfCG_PP4gAAAGMbT6C-QMAAAH2AQBvbm9fdHhuX2JpZDEgICBvbm9fdHhuX2ltcDEgICAB_vim\n",
      "81. https://m.media-amazon.com/images/S/al-eu-726f4d26-7fdb/a83732bc-c17d-4ff8-82ee-8739142ddb43._CR0,0,1200,628_SX460_QL70_.png\n",
      "82. https://m.media-amazon.com/images/W/MEDIAX_792452-T2/images/S/al-eu-726f4d26-7fdb/2a26dd3f-2edd-4a94-849f-37bb2f2ad169._CR0,0,400,400_AC_SX96_SY48_QL70_.jpg\n",
      "83. https://m.media-amazon.com/images/W/MEDIAX_792452-T2/images/S/al-eu-726f4d26-7fdb/5251332b-45fb-4657-a98a-66b8d935ad54._CR0,0,1200,628_SX460_QL70_.jpg\n",
      "84. https://m.media-amazon.com/images/S/al-eu-726f4d26-7fdb/afb1e945-e3b9-46f8-9b0f-cbb05e9196d2._CR0,0,800,800_AC_SX96_SY48_QL70_.png\n",
      "85. https://m.media-amazon.com/images/W/MEDIAX_792452-T2/images/S/al-eu-726f4d26-7fdb/dc5fa554-feb5-46a7-92c9-419186bf41a1._CR0,0,1200,628_SX460_QL70_.jpg\n",
      "86. https://m.media-amazon.com/images/W/MEDIAX_792452-T2/images/S/al-eu-726f4d26-7fdb/de6248b2-89a8-49c1-a87a-baf672afeae2._CR0,0,3000,3000_AC_SX96_SY48_QL70_.jpg\n",
      "87. https://images-na.ssl-images-amazon.com/images/G/01/x-locale/common/transparent-pixel._V192234675_.gif\n",
      "88. https://images-na.ssl-images-amazon.com/images/G/01/x-locale/common/grey-pixel.gif\n",
      "89. https://m.media-amazon.com/images/W/MEDIAX_792452-T2/images/I/51fwNusGq6L._SY250_.jpg\n",
      "90. https://m.media-amazon.com/images/W/MEDIAX_792452-T2/images/I/41ZatOCDIXL._SY250_.jpg\n",
      "91. https://m.media-amazon.com/images/W/MEDIAX_792452-T2/images/I/41B8FemzPML._SY250_.jpg\n",
      "92. https://m.media-amazon.com/images/W/MEDIAX_792452-T2/images/I/71EgWMNfsmL._SY250_.jpg\n",
      "93. https://m.media-amazon.com/images/W/MEDIAX_792452-T2/images/I/61KOmE0hMYL._SY250_.jpg\n",
      "94. https://m.media-amazon.com/images/W/MEDIAX_792452-T2/images/I/71fkTCK7KBL._SY250_.jpg\n",
      "95. https://m.media-amazon.com/images/W/MEDIAX_792452-T2/images/I/610NPtZjqZL._SY250_.jpg\n",
      "96. https://m.media-amazon.com/images/W/MEDIAX_792452-T2/images/I/71TGTD1hjUL._SY250_.jpg\n",
      "97. https://m.media-amazon.com/images/W/MEDIAX_792452-T2/images/I/81Jh4tZQASL._SY250_.jpg\n",
      "98. https://m.media-amazon.com/images/W/MEDIAX_792452-T2/images/I/61c6h6BYxYL._SY250_.jpg\n",
      "99. https://m.media-amazon.com/images/W/MEDIAX_792452-T2/images/I/C1ZsDNqPOlS._SY250_.jpg\n",
      "100. https://m.media-amazon.com/images/W/MEDIAX_792452-T2/images/I/61OWF3nBWXL._SY250_.jpg\n",
      "101. https://images-na.ssl-images-amazon.com/images/G/01/x-locale/common/grey-pixel.gif\n",
      "102. https://images-eu.ssl-images-amazon.com/images/S/amazon-avatars-global/default._CR0,0,1024,1024_SX48_.png\n",
      "103. https://images-na.ssl-images-amazon.com/images/G/01/x-locale/common/grey-pixel.gif\n",
      "104. https://images-eu.ssl-images-amazon.com/images/S/amazon-avatars-global/default._CR0,0,1024,1024_SX48_.png\n",
      "105. https://images-na.ssl-images-amazon.com/images/G/01/x-locale/common/grey-pixel.gif\n",
      "106. https://images-eu.ssl-images-amazon.com/images/S/amazon-avatars-global/default._CR0,0,1024,1024_SX48_.png\n",
      "107. https://images-na.ssl-images-amazon.com/images/G/01/x-locale/common/grey-pixel.gif\n",
      "108. https://images-eu.ssl-images-amazon.com/images/S/amazon-avatars-global/default._CR0,0,1024,1024_SX48_.png\n",
      "109. https://images-na.ssl-images-amazon.com/images/G/01/x-locale/common/grey-pixel.gif\n",
      "110. https://images-eu.ssl-images-amazon.com/images/S/amazon-avatars-global/default._CR0,0,1024,1024_SX48_.png\n",
      "111. https://images-na.ssl-images-amazon.com/images/G/01/x-locale/common/grey-pixel.gif\n",
      "112. https://images-eu.ssl-images-amazon.com/images/S/amazon-avatars-global/default._CR0,0,1024,1024_SX48_.png\n",
      "113. https://images-na.ssl-images-amazon.com/images/G/01/x-locale/common/grey-pixel.gif\n",
      "114. https://images-eu.ssl-images-amazon.com/images/W/MEDIAX_792452-T2/images/S/amazon-avatars-global/8870b1f8-84ce-4527-ae12-19baa81e2fc4._CR0,0,500,500_SX48_.jpg\n",
      "115. https://images-na.ssl-images-amazon.com/images/G/01/x-locale/common/grey-pixel.gif\n",
      "116. https://images-eu.ssl-images-amazon.com/images/S/amazon-avatars-global/default._CR0,0,1024,1024_SX48_.png\n",
      "117. https://m.media-amazon.com/images/G/31/personalization/ybh/loading-4x-gray._CB485916689_.gif\n",
      "118. https://fls-eu.amazon.in/1/batch/1/OP/A21TJRUUN4KGV:259-7182508-8711602:7MP6H1AR2859SP4D6JX6$uedata=s:%2Frd%2Fuedata%3Fnoscript%26id%3D7MP6H1AR2859SP4D6JX6:0\n",
      "119. https://d39x00gckxu2jb.cloudfront.net/follow/assets/follow-button-sprite-b475c89a03a1675ae927dbb101674cd3.png\n"
     ]
    }
   ],
   "source": [
    "from selenium import webdriver\n",
    "from selenium.webdriver.common.by import By\n",
    "from selenium.webdriver.chrome.service import Service as ChromeService\n",
    "from selenium.webdriver.chrome.options import Options as ChromeOptions\n",
    "from bs4 import BeautifulSoup\n",
    "from urllib.parse import urljoin\n",
    "\n",
    "def get_amazon_image_links(url):\n",
    "    # Set up Chrome options\n",
    "    chrome_options = ChromeOptions()\n",
    "    chrome_options.headless = True  # Run Chrome in headless mode (without GUI)\n",
    "\n",
    "    # Set up the Chrome driver (you need to specify the path to your chromedriver executable)  # Update with your actual path\n",
    "    service = ChromeService()\n",
    "    driver = webdriver.Chrome(service=service, options=chrome_options)\n",
    "\n",
    "    try:\n",
    "        # Navigate to the Amazon product page\n",
    "        driver.get(url)\n",
    "\n",
    "        # Wait for the page to load (you might need to adjust the wait time based on your network speed)\n",
    "        driver.implicitly_wait(10)\n",
    "\n",
    "        # Get the page source after waiting\n",
    "        page_source = driver.page_source\n",
    "\n",
    "        # Parse the HTML content of the page\n",
    "        soup = BeautifulSoup(page_source, 'html.parser')\n",
    "\n",
    "        # Find all image tags\n",
    "        image_tags = soup.find_all('img')\n",
    "\n",
    "        # Extract image URLs\n",
    "        image_links = [urljoin(url, img['src']) for img in image_tags if 'src' in img.attrs]\n",
    "\n",
    "        return image_links\n",
    "\n",
    "    finally:\n",
    "        # Close the browser window\n",
    "        driver.quit()\n",
    "\n",
    "# Example usage\n",
    "amazon_url = \"https://www.amazon.in/dp/B07BDNCTFC\"\n",
    "image_links = get_amazon_image_links(amazon_url)\n",
    "\n",
    "if image_links:\n",
    "    print(\"Scraped Image Links:\")\n",
    "    for i, link in enumerate(image_links, 1):\n",
    "        print(f\"{i}. {link}\")\n"
   ]
  },
  {
   "cell_type": "code",
   "execution_count": null,
   "id": "2df85d26",
   "metadata": {},
   "outputs": [],
   "source": [
    "# '//*[@id=\"imgTagWrapperId\"]/img'\n",
    "# //div[@id='imgTagWrapperId']/img"
   ]
  },
  {
   "cell_type": "code",
   "execution_count": null,
   "id": "7fcaa053",
   "metadata": {},
   "outputs": [],
   "source": [
    "import requests\n",
    "from bs4 import BeautifulSoup\n",
    "\n",
    "def get_amazon_image_link(url):\n",
    "    # Send a request to the Amazon product page\n",
    "    response = requests.get(url)\n",
    "\n",
    "    # Check if the request was successful (status code 200)\n",
    "    # Parse the HTML content of the page\n",
    "    soup = BeautifulSoup(response.content, 'html.parser')\n",
    "\n",
    "    # Define the XPath for the image (update based on the actual HTML structure)\n",
    "    # xpath_expression = '//div[@id=\"imgTagWrapperId\"]/img'\n",
    "    xpath_expression = '//img[@class=\"fullscreen\"]'\n",
    "    \n",
    "\n",
    "    # Find the image element using the XPath\n",
    "    image_element = soup.find('img', {'id': 'imgTagWrapperId'})\n",
    "\n",
    "    # Extract the image URL\n",
    "    if image_element:\n",
    "        image_link = image_element.get('src')\n",
    "        return image_link\n",
    "\n",
    "\n",
    "\n",
    "# Example usage\n",
    "amazon_url = \"https://www.amazon.in/dp/B07BDNCTFC\"\n",
    "image_link = get_amazon_image_link(amazon_url)\n",
    "\n",
    "print(f\"Image Link: {image_link}\")\n"
   ]
  },
  {
   "cell_type": "code",
   "execution_count": 49,
   "id": "00da6668",
   "metadata": {},
   "outputs": [
    {
     "name": "stdout",
     "output_type": "stream",
     "text": [
      "Image Link: None\n"
     ]
    }
   ],
   "source": [
    "import requests\n",
    "from bs4 import BeautifulSoup\n",
    "\n",
    "def get_amazon_image_link(url):\n",
    "    # Send a request to the Amazon product page\n",
    "    response = requests.get(url)\n",
    "\n",
    "    # Check if the request was successful (status code 200)\n",
    "    # Parse the HTML content of the page\n",
    "    soup = BeautifulSoup(response.content, 'html.parser')\n",
    "\n",
    "    # Define the XPath for the image (update based on the actual HTML structure)\n",
    "    # xpath_expression = '//div[@id=\"imgTagWrapperId\"]/img'\n",
    "    xpath_expression = '//img[@class=\"fullscreen\"]'\n",
    "    \n",
    "\n",
    "    # Find the image element using the XPath\n",
    "    image_element = soup.find('img', {'id': 'imgTagWrapperId'})\n",
    "\n",
    "    # Extract the image URL\n",
    "    if image_element:\n",
    "        image_link = image_element.get('src')\n",
    "        return image_link\n",
    "\n",
    "\n",
    "\n",
    "# Example usage\n",
    "amazon_url = \"https://www.amazon.in/dp/B07BDNCTFC\"\n",
    "image_link = get_amazon_image_link(amazon_url)\n",
    "\n",
    "print(f\"Image Link: {image_link}\")\n"
   ]
  },
  {
   "cell_type": "code",
   "execution_count": 78,
   "id": "2a30267c",
   "metadata": {},
   "outputs": [],
   "source": [
    "df_path = r'/Users/aryansood/aims/nlp grup1/Data Input (Test & Train) copy.xlsx'\n",
    "df = pd.read_excel(df_path,\"Test_India\", header=1)\n",
    "df.describe()\n",
    "list_of_names=list(df['ASIN'])\n",
    "list_of_urls=list(df['URL'])"
   ]
  },
  {
   "cell_type": "code",
   "execution_count": 79,
   "id": "651977b7",
   "metadata": {},
   "outputs": [
    {
     "name": "stdout",
     "output_type": "stream",
     "text": [
      "407 407\n"
     ]
    }
   ],
   "source": [
    "print(len(list_of_names),len(list_of_urls))"
   ]
  },
  {
   "cell_type": "code",
   "execution_count": null,
   "id": "f8afc7ee",
   "metadata": {},
   "outputs": [],
   "source": []
  }
 ],
 "metadata": {
  "kernelspec": {
   "display_name": "Python 3 (ipykernel)",
   "language": "python",
   "name": "python3"
  },
  "language_info": {
   "codemirror_mode": {
    "name": "ipython",
    "version": 3
   },
   "file_extension": ".py",
   "mimetype": "text/x-python",
   "name": "python",
   "nbconvert_exporter": "python",
   "pygments_lexer": "ipython3",
   "version": "3.11.4"
  }
 },
 "nbformat": 4,
 "nbformat_minor": 5
}
