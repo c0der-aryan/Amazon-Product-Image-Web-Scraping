{
 "cells": [
  {
   "cell_type": "code",
   "execution_count": 1,
   "id": "d7150947",
   "metadata": {},
   "outputs": [],
   "source": [
    "from selenium import webdriver\n",
    "import requests\n",
    "import io\n",
    "from PIL import Image"
   ]
  },
  {
   "cell_type": "code",
   "execution_count": 7,
   "id": "92faa786",
   "metadata": {},
   "outputs": [],
   "source": [
    "driver = webdriver.Chrome()"
   ]
  },
  {
   "cell_type": "code",
   "execution_count": 11,
   "id": "a632f00c",
   "metadata": {},
   "outputs": [],
   "source": [
    "driver.get('https://www.amazon.in/gp/bestsellers/beauty/3507139031')\n",
    "input_search= driver.find_element(\"id\",\"twotabsearchtextbox\")\n",
    "search_button= driver.find_element(\"xpath\",\"(//input[@type='submit'])[1]\")\n"
   ]
  },
  {
   "cell_type": "code",
   "execution_count": 14,
   "id": "1370cbf2",
   "metadata": {},
   "outputs": [],
   "source": [
    "from time import sleep\n",
    "input_search.send_keys(\"Hair Oils\")\n",
    "sleep(1)\n",
    "search_button.click()\n"
   ]
  },
  {
   "cell_type": "code",
   "execution_count": 15,
   "id": "9f359de2",
   "metadata": {},
   "outputs": [
    {
     "name": "stdout",
     "output_type": "stream",
     "text": [
      "Getting Images\n"
     ]
    }
   ],
   "source": [
    "image_url= \"https://m.media-amazon.com/images/W/MEDIAX_792452-T1/images/I/61nBoAnPSEL._SX522_.jpg\"\n",
    "def download_image(downloaded_path, url, file_name):\n",
    "    image_content= requests.get(url).content  #actually getting the image\n",
    "    image_file= io.BytesIO(image_content)     #converting the image into a bytes file\n",
    "    image= Image.open(image_file)             #converting the image into an Pillow Image \n",
    "    file_path=downloaded_path + file_name\n",
    "\n",
    "    with open(file_path,\"wb\") as f:\n",
    "        image.save(f,\"JPEG\")\n",
    "\n",
    "    print(\"Getting Images\")    \n",
    "download_image(\"\", image_url, \"test.jpg\")     "
   ]
  },
  {
   "cell_type": "code",
   "execution_count": 20,
   "id": "b15eefae",
   "metadata": {},
   "outputs": [
    {
     "name": "stdout",
     "output_type": "stream",
     "text": [
      "Scrapping 1\n",
      "Next page button not found, or no more pages.\n"
     ]
    }
   ],
   "source": [
    "from selenium.common.exceptions import NoSuchElementException\n",
    "\n",
    "products = []\n",
    "prices = []\n",
    "prices_per_ml=[]\n",
    "for i in range(10):\n",
    "    try:\n",
    "        print(\"Scrapping\", i+1)\n",
    "        product_elements = driver.find_elements(\"xpath\", \"//span[@class='_cDEzb_p13n-sc-css-line-clamp-3_g3dy1']\")  \n",
    "        product_name= driver.find_element(\"id\", \"productTitle\")\n",
    "        price= driver.find_element(\"xpath\",\"//span[@class='a-price-whole']\")\n",
    "        price_ml= driver.find_element(\"xpath\",\"//span[@class='a-size-mini a-color-base aok-align-center pricePerUnit']\")\n",
    "        for product in product_elements:\n",
    "            product_elements.click()\n",
    "            products.append(product_name.text) \n",
    "            prices.append(price.text)\n",
    "            prices_per_ml.append(price_ml)\n",
    "            \n",
    "        next_button = driver.find_element(\"xpath\", \"//a[@class='s-pagination-item s-pagination-next s-pagination-button s-pagination-separator']\")\n",
    "        next_button.click()\n",
    "        sleep(5)\n",
    "\n",
    "    except NoSuchElementException:\n",
    "        print(\"Next page button not found, or no more pages.\")\n",
    "        break\n",
    "\n",
    "\n",
    "\n"
   ]
  },
  {
   "cell_type": "code",
   "execution_count": 21,
   "id": "308db9b5",
   "metadata": {},
   "outputs": [
    {
     "data": {
      "text/plain": [
       "0"
      ]
     },
     "execution_count": 21,
     "metadata": {},
     "output_type": "execute_result"
    }
   ],
   "source": [
    "len(products)"
   ]
  },
  {
   "cell_type": "code",
   "execution_count": null,
   "id": "cb05d210",
   "metadata": {},
   "outputs": [],
   "source": []
  }
 ],
 "metadata": {
  "kernelspec": {
   "display_name": "Python 3 (ipykernel)",
   "language": "python",
   "name": "python3"
  },
  "language_info": {
   "codemirror_mode": {
    "name": "ipython",
    "version": 3
   },
   "file_extension": ".py",
   "mimetype": "text/x-python",
   "name": "python",
   "nbconvert_exporter": "python",
   "pygments_lexer": "ipython3",
   "version": "3.11.4"
  }
 },
 "nbformat": 4,
 "nbformat_minor": 5
}
